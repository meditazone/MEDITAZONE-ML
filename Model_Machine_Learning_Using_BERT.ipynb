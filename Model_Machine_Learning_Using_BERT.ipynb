{
  "nbformat": 4,
  "nbformat_minor": 0,
  "metadata": {
    "colab": {
      "provenance": [],
      "gpuType": "T4"
    },
    "kernelspec": {
      "name": "python3",
      "display_name": "Python 3"
    },
    "language_info": {
      "name": "python"
    },
    "accelerator": "GPU"
  },
  "cells": [
    {
      "cell_type": "markdown",
      "source": [
        "# Importing Libraries"
      ],
      "metadata": {
        "id": "jRNmCW8R3sRP"
      }
    },
    {
      "cell_type": "code",
      "source": [
        "# Data manipulation libraries\n",
        "import sys, os\n",
        "import pandas as pd\n",
        "import numpy as np\n",
        "import json\n",
        "import re\n",
        "\n",
        "# Scikit-learn packages\n",
        "from sklearn.metrics import accuracy_score\n",
        "from sklearn.metrics import precision_recall_fscore_support\n",
        "from sklearn.utils.class_weight import compute_class_weight\n",
        "from sklearn.model_selection import train_test_split\n",
        "from sklearn.preprocessing import LabelEncoder\n",
        "\n",
        "# Packages to define a BERT model\n",
        "from transformers import TFBertModel, BertTokenizerFast, BertConfig\n",
        "\n",
        "# Keras and TensorFlow packages\n",
        "import tensorflow as tf\n",
        "from tensorflow import keras\n",
        "from tensorflow.keras import layers\n",
        "from keras import backend as K\n",
        "from tensorflow.keras.utils import to_categorical\n",
        "from tensorflow.keras.layers import Input, Dropout, Dense, LSTM, Reshape\n",
        "from tensorflow.keras.models import Model\n",
        "from tensorflow.keras.optimizers import Adam\n",
        "from tensorflow.keras.initializers import TruncatedNormal\n",
        "from tensorflow.keras.callbacks import EarlyStopping, ReduceLROnPlateau\n",
        "\n",
        "from google.colab import drive\n",
        "drive.mount('/content/drive')"
      ],
      "metadata": {
        "colab": {
          "base_uri": "https://localhost:8080/"
        },
        "id": "-YmdEJ5l5cIX",
        "outputId": "44df47d5-6d7c-4d65-d860-aacd9d134bba"
      },
      "execution_count": null,
      "outputs": [
        {
          "output_type": "stream",
          "name": "stdout",
          "text": [
            "Drive already mounted at /content/drive; to attempt to forcibly remount, call drive.mount(\"/content/drive\", force_remount=True).\n"
          ]
        }
      ]
    },
    {
      "cell_type": "markdown",
      "source": [
        "# Data Loading and Preprocessing"
      ],
      "metadata": {
        "id": "6GNagh784As8"
      }
    },
    {
      "cell_type": "code",
      "source": [
        "# Change the path according to the location of your CSV file\n",
        "file_path = '/content/drive/MyDrive/Dataset for Capstone/data_full_new_30k.csv'\n",
        "\n",
        "# Read data from a txt file and create a DataFrame\n",
        "df_first = pd.read_csv(file_path, sep=';', encoding='latin1')\n",
        "df_first = df_first.rename(columns={'Column1': 'Label', 'Column2': 'Text'})\n",
        "\n",
        "# Display the first few rows of the DataFrame\n",
        "df_first.head()"
      ],
      "metadata": {
        "colab": {
          "base_uri": "https://localhost:8080/",
          "height": 206
        },
        "id": "8COURVB66N2g",
        "outputId": "85f150d6-29f7-4a77-c921-276db5e7ad3e"
      },
      "execution_count": null,
      "outputs": [
        {
          "output_type": "execute_result",
          "data": {
            "text/plain": [
              "     Label                                               Text\n",
              "0  anxiety  Apakah saya diadili? Jadi saya sering melakuka...\n",
              "1  anxiety  Kekurangan nasional di Lorazepam telah mencoba...\n",
              "2  anxiety  Minggu ini adalah omong kosong saya mengalami ...\n",
              "3  anxiety  Adakah yang punya hobi/kegiatan yang membantu ...\n",
              "4  anxiety  Saya memesan sendiri hari ini, saya selalu per..."
            ],
            "text/html": [
              "\n",
              "  <div id=\"df-6d22d6cf-2b6d-46d3-b34f-8f600b05749c\" class=\"colab-df-container\">\n",
              "    <div>\n",
              "<style scoped>\n",
              "    .dataframe tbody tr th:only-of-type {\n",
              "        vertical-align: middle;\n",
              "    }\n",
              "\n",
              "    .dataframe tbody tr th {\n",
              "        vertical-align: top;\n",
              "    }\n",
              "\n",
              "    .dataframe thead th {\n",
              "        text-align: right;\n",
              "    }\n",
              "</style>\n",
              "<table border=\"1\" class=\"dataframe\">\n",
              "  <thead>\n",
              "    <tr style=\"text-align: right;\">\n",
              "      <th></th>\n",
              "      <th>Label</th>\n",
              "      <th>Text</th>\n",
              "    </tr>\n",
              "  </thead>\n",
              "  <tbody>\n",
              "    <tr>\n",
              "      <th>0</th>\n",
              "      <td>anxiety</td>\n",
              "      <td>Apakah saya diadili? Jadi saya sering melakuka...</td>\n",
              "    </tr>\n",
              "    <tr>\n",
              "      <th>1</th>\n",
              "      <td>anxiety</td>\n",
              "      <td>Kekurangan nasional di Lorazepam telah mencoba...</td>\n",
              "    </tr>\n",
              "    <tr>\n",
              "      <th>2</th>\n",
              "      <td>anxiety</td>\n",
              "      <td>Minggu ini adalah omong kosong saya mengalami ...</td>\n",
              "    </tr>\n",
              "    <tr>\n",
              "      <th>3</th>\n",
              "      <td>anxiety</td>\n",
              "      <td>Adakah yang punya hobi/kegiatan yang membantu ...</td>\n",
              "    </tr>\n",
              "    <tr>\n",
              "      <th>4</th>\n",
              "      <td>anxiety</td>\n",
              "      <td>Saya memesan sendiri hari ini, saya selalu per...</td>\n",
              "    </tr>\n",
              "  </tbody>\n",
              "</table>\n",
              "</div>\n",
              "    <div class=\"colab-df-buttons\">\n",
              "\n",
              "  <div class=\"colab-df-container\">\n",
              "    <button class=\"colab-df-convert\" onclick=\"convertToInteractive('df-6d22d6cf-2b6d-46d3-b34f-8f600b05749c')\"\n",
              "            title=\"Convert this dataframe to an interactive table.\"\n",
              "            style=\"display:none;\">\n",
              "\n",
              "  <svg xmlns=\"http://www.w3.org/2000/svg\" height=\"24px\" viewBox=\"0 -960 960 960\">\n",
              "    <path d=\"M120-120v-720h720v720H120Zm60-500h600v-160H180v160Zm220 220h160v-160H400v160Zm0 220h160v-160H400v160ZM180-400h160v-160H180v160Zm440 0h160v-160H620v160ZM180-180h160v-160H180v160Zm440 0h160v-160H620v160Z\"/>\n",
              "  </svg>\n",
              "    </button>\n",
              "\n",
              "  <style>\n",
              "    .colab-df-container {\n",
              "      display:flex;\n",
              "      gap: 12px;\n",
              "    }\n",
              "\n",
              "    .colab-df-convert {\n",
              "      background-color: #E8F0FE;\n",
              "      border: none;\n",
              "      border-radius: 50%;\n",
              "      cursor: pointer;\n",
              "      display: none;\n",
              "      fill: #1967D2;\n",
              "      height: 32px;\n",
              "      padding: 0 0 0 0;\n",
              "      width: 32px;\n",
              "    }\n",
              "\n",
              "    .colab-df-convert:hover {\n",
              "      background-color: #E2EBFA;\n",
              "      box-shadow: 0px 1px 2px rgba(60, 64, 67, 0.3), 0px 1px 3px 1px rgba(60, 64, 67, 0.15);\n",
              "      fill: #174EA6;\n",
              "    }\n",
              "\n",
              "    .colab-df-buttons div {\n",
              "      margin-bottom: 4px;\n",
              "    }\n",
              "\n",
              "    [theme=dark] .colab-df-convert {\n",
              "      background-color: #3B4455;\n",
              "      fill: #D2E3FC;\n",
              "    }\n",
              "\n",
              "    [theme=dark] .colab-df-convert:hover {\n",
              "      background-color: #434B5C;\n",
              "      box-shadow: 0px 1px 3px 1px rgba(0, 0, 0, 0.15);\n",
              "      filter: drop-shadow(0px 1px 2px rgba(0, 0, 0, 0.3));\n",
              "      fill: #FFFFFF;\n",
              "    }\n",
              "  </style>\n",
              "\n",
              "    <script>\n",
              "      const buttonEl =\n",
              "        document.querySelector('#df-6d22d6cf-2b6d-46d3-b34f-8f600b05749c button.colab-df-convert');\n",
              "      buttonEl.style.display =\n",
              "        google.colab.kernel.accessAllowed ? 'block' : 'none';\n",
              "\n",
              "      async function convertToInteractive(key) {\n",
              "        const element = document.querySelector('#df-6d22d6cf-2b6d-46d3-b34f-8f600b05749c');\n",
              "        const dataTable =\n",
              "          await google.colab.kernel.invokeFunction('convertToInteractive',\n",
              "                                                    [key], {});\n",
              "        if (!dataTable) return;\n",
              "\n",
              "        const docLinkHtml = 'Like what you see? Visit the ' +\n",
              "          '<a target=\"_blank\" href=https://colab.research.google.com/notebooks/data_table.ipynb>data table notebook</a>'\n",
              "          + ' to learn more about interactive tables.';\n",
              "        element.innerHTML = '';\n",
              "        dataTable['output_type'] = 'display_data';\n",
              "        await google.colab.output.renderOutput(dataTable, element);\n",
              "        const docLink = document.createElement('div');\n",
              "        docLink.innerHTML = docLinkHtml;\n",
              "        element.appendChild(docLink);\n",
              "      }\n",
              "    </script>\n",
              "  </div>\n",
              "\n",
              "\n",
              "<div id=\"df-436a02ce-9691-4da7-8126-ad1e5dc30daf\">\n",
              "  <button class=\"colab-df-quickchart\" onclick=\"quickchart('df-436a02ce-9691-4da7-8126-ad1e5dc30daf')\"\n",
              "            title=\"Suggest charts\"\n",
              "            style=\"display:none;\">\n",
              "\n",
              "<svg xmlns=\"http://www.w3.org/2000/svg\" height=\"24px\"viewBox=\"0 0 24 24\"\n",
              "     width=\"24px\">\n",
              "    <g>\n",
              "        <path d=\"M19 3H5c-1.1 0-2 .9-2 2v14c0 1.1.9 2 2 2h14c1.1 0 2-.9 2-2V5c0-1.1-.9-2-2-2zM9 17H7v-7h2v7zm4 0h-2V7h2v10zm4 0h-2v-4h2v4z\"/>\n",
              "    </g>\n",
              "</svg>\n",
              "  </button>\n",
              "\n",
              "<style>\n",
              "  .colab-df-quickchart {\n",
              "      --bg-color: #E8F0FE;\n",
              "      --fill-color: #1967D2;\n",
              "      --hover-bg-color: #E2EBFA;\n",
              "      --hover-fill-color: #174EA6;\n",
              "      --disabled-fill-color: #AAA;\n",
              "      --disabled-bg-color: #DDD;\n",
              "  }\n",
              "\n",
              "  [theme=dark] .colab-df-quickchart {\n",
              "      --bg-color: #3B4455;\n",
              "      --fill-color: #D2E3FC;\n",
              "      --hover-bg-color: #434B5C;\n",
              "      --hover-fill-color: #FFFFFF;\n",
              "      --disabled-bg-color: #3B4455;\n",
              "      --disabled-fill-color: #666;\n",
              "  }\n",
              "\n",
              "  .colab-df-quickchart {\n",
              "    background-color: var(--bg-color);\n",
              "    border: none;\n",
              "    border-radius: 50%;\n",
              "    cursor: pointer;\n",
              "    display: none;\n",
              "    fill: var(--fill-color);\n",
              "    height: 32px;\n",
              "    padding: 0;\n",
              "    width: 32px;\n",
              "  }\n",
              "\n",
              "  .colab-df-quickchart:hover {\n",
              "    background-color: var(--hover-bg-color);\n",
              "    box-shadow: 0 1px 2px rgba(60, 64, 67, 0.3), 0 1px 3px 1px rgba(60, 64, 67, 0.15);\n",
              "    fill: var(--button-hover-fill-color);\n",
              "  }\n",
              "\n",
              "  .colab-df-quickchart-complete:disabled,\n",
              "  .colab-df-quickchart-complete:disabled:hover {\n",
              "    background-color: var(--disabled-bg-color);\n",
              "    fill: var(--disabled-fill-color);\n",
              "    box-shadow: none;\n",
              "  }\n",
              "\n",
              "  .colab-df-spinner {\n",
              "    border: 2px solid var(--fill-color);\n",
              "    border-color: transparent;\n",
              "    border-bottom-color: var(--fill-color);\n",
              "    animation:\n",
              "      spin 1s steps(1) infinite;\n",
              "  }\n",
              "\n",
              "  @keyframes spin {\n",
              "    0% {\n",
              "      border-color: transparent;\n",
              "      border-bottom-color: var(--fill-color);\n",
              "      border-left-color: var(--fill-color);\n",
              "    }\n",
              "    20% {\n",
              "      border-color: transparent;\n",
              "      border-left-color: var(--fill-color);\n",
              "      border-top-color: var(--fill-color);\n",
              "    }\n",
              "    30% {\n",
              "      border-color: transparent;\n",
              "      border-left-color: var(--fill-color);\n",
              "      border-top-color: var(--fill-color);\n",
              "      border-right-color: var(--fill-color);\n",
              "    }\n",
              "    40% {\n",
              "      border-color: transparent;\n",
              "      border-right-color: var(--fill-color);\n",
              "      border-top-color: var(--fill-color);\n",
              "    }\n",
              "    60% {\n",
              "      border-color: transparent;\n",
              "      border-right-color: var(--fill-color);\n",
              "    }\n",
              "    80% {\n",
              "      border-color: transparent;\n",
              "      border-right-color: var(--fill-color);\n",
              "      border-bottom-color: var(--fill-color);\n",
              "    }\n",
              "    90% {\n",
              "      border-color: transparent;\n",
              "      border-bottom-color: var(--fill-color);\n",
              "    }\n",
              "  }\n",
              "</style>\n",
              "\n",
              "  <script>\n",
              "    async function quickchart(key) {\n",
              "      const quickchartButtonEl =\n",
              "        document.querySelector('#' + key + ' button');\n",
              "      quickchartButtonEl.disabled = true;  // To prevent multiple clicks.\n",
              "      quickchartButtonEl.classList.add('colab-df-spinner');\n",
              "      try {\n",
              "        const charts = await google.colab.kernel.invokeFunction(\n",
              "            'suggestCharts', [key], {});\n",
              "      } catch (error) {\n",
              "        console.error('Error during call to suggestCharts:', error);\n",
              "      }\n",
              "      quickchartButtonEl.classList.remove('colab-df-spinner');\n",
              "      quickchartButtonEl.classList.add('colab-df-quickchart-complete');\n",
              "    }\n",
              "    (() => {\n",
              "      let quickchartButtonEl =\n",
              "        document.querySelector('#df-436a02ce-9691-4da7-8126-ad1e5dc30daf button');\n",
              "      quickchartButtonEl.style.display =\n",
              "        google.colab.kernel.accessAllowed ? 'block' : 'none';\n",
              "    })();\n",
              "  </script>\n",
              "</div>\n",
              "    </div>\n",
              "  </div>\n"
            ]
          },
          "metadata": {},
          "execution_count": 2
        }
      ]
    },
    {
      "cell_type": "code",
      "source": [
        "print('Number of row : ', df_first.shape[0])\n",
        "print('Number of column : ', df_first.shape[1])"
      ],
      "metadata": {
        "colab": {
          "base_uri": "https://localhost:8080/"
        },
        "id": "3SdpP0Lv6TZ2",
        "outputId": "df4bf7a7-496d-48c3-8796-e1b8cd59d779"
      },
      "execution_count": null,
      "outputs": [
        {
          "output_type": "stream",
          "name": "stdout",
          "text": [
            "Number of row :  30002\n",
            "Number of column :  2\n"
          ]
        }
      ]
    },
    {
      "cell_type": "code",
      "source": [
        "df_first.isnull().sum()"
      ],
      "metadata": {
        "colab": {
          "base_uri": "https://localhost:8080/"
        },
        "id": "i8XxtNzm6WtF",
        "outputId": "f4a49e68-9ebd-4ca0-f5b9-7797ca336b04"
      },
      "execution_count": null,
      "outputs": [
        {
          "output_type": "execute_result",
          "data": {
            "text/plain": [
              "Label    0\n",
              "Text     4\n",
              "dtype: int64"
            ]
          },
          "metadata": {},
          "execution_count": 4
        }
      ]
    },
    {
      "cell_type": "code",
      "source": [
        "# Delete rows with null or NaN values from the DataFrame\n",
        "df_first = df_first.dropna()"
      ],
      "metadata": {
        "id": "mvI30waeq8RS"
      },
      "execution_count": null,
      "outputs": []
    },
    {
      "cell_type": "code",
      "source": [
        "df_first.info()"
      ],
      "metadata": {
        "colab": {
          "base_uri": "https://localhost:8080/"
        },
        "id": "SUyqUyrI6aVW",
        "outputId": "f6296cfb-566c-440f-ddbb-80486ed9a52b"
      },
      "execution_count": null,
      "outputs": [
        {
          "output_type": "stream",
          "name": "stdout",
          "text": [
            "<class 'pandas.core.frame.DataFrame'>\n",
            "Int64Index: 29998 entries, 0 to 30001\n",
            "Data columns (total 2 columns):\n",
            " #   Column  Non-Null Count  Dtype \n",
            "---  ------  --------------  ----- \n",
            " 0   Label   29998 non-null  object\n",
            " 1   Text    29998 non-null  object\n",
            "dtypes: object(2)\n",
            "memory usage: 703.1+ KB\n"
          ]
        }
      ]
    },
    {
      "cell_type": "code",
      "source": [
        "df_first.duplicated().sum()"
      ],
      "metadata": {
        "colab": {
          "base_uri": "https://localhost:8080/"
        },
        "id": "AD0ma7MF6dW8",
        "outputId": "9be95746-556e-4860-abf0-deb720382093"
      },
      "execution_count": null,
      "outputs": [
        {
          "output_type": "execute_result",
          "data": {
            "text/plain": [
              "4"
            ]
          },
          "metadata": {},
          "execution_count": 7
        }
      ]
    },
    {
      "cell_type": "code",
      "source": [
        "#removing duplicated values\n",
        "index = df_first[df_first.duplicated() == True].index\n",
        "df_first.drop(index, axis = 0, inplace= True)\n",
        "df_first.reset_index(inplace= True, drop= True)"
      ],
      "metadata": {
        "id": "EpEOzpwx6gqm"
      },
      "execution_count": null,
      "outputs": []
    },
    {
      "cell_type": "code",
      "source": [
        "#print the rows which are duplicated (duplicated in the text but with different emotions)\n",
        "df_first[df_first['Text'].duplicated() == True]"
      ],
      "metadata": {
        "colab": {
          "base_uri": "https://localhost:8080/",
          "height": 53
        },
        "id": "SSpvvaw76keE",
        "outputId": "d9eb769e-ee0e-45a4-d824-99815a4c55d3"
      },
      "execution_count": null,
      "outputs": [
        {
          "output_type": "execute_result",
          "data": {
            "text/plain": [
              "Empty DataFrame\n",
              "Columns: [Label, Text]\n",
              "Index: []"
            ],
            "text/html": [
              "\n",
              "  <div id=\"df-f796b8da-9b62-4231-9279-7aede9bbcf9d\" class=\"colab-df-container\">\n",
              "    <div>\n",
              "<style scoped>\n",
              "    .dataframe tbody tr th:only-of-type {\n",
              "        vertical-align: middle;\n",
              "    }\n",
              "\n",
              "    .dataframe tbody tr th {\n",
              "        vertical-align: top;\n",
              "    }\n",
              "\n",
              "    .dataframe thead th {\n",
              "        text-align: right;\n",
              "    }\n",
              "</style>\n",
              "<table border=\"1\" class=\"dataframe\">\n",
              "  <thead>\n",
              "    <tr style=\"text-align: right;\">\n",
              "      <th></th>\n",
              "      <th>Label</th>\n",
              "      <th>Text</th>\n",
              "    </tr>\n",
              "  </thead>\n",
              "  <tbody>\n",
              "  </tbody>\n",
              "</table>\n",
              "</div>\n",
              "    <div class=\"colab-df-buttons\">\n",
              "\n",
              "  <div class=\"colab-df-container\">\n",
              "    <button class=\"colab-df-convert\" onclick=\"convertToInteractive('df-f796b8da-9b62-4231-9279-7aede9bbcf9d')\"\n",
              "            title=\"Convert this dataframe to an interactive table.\"\n",
              "            style=\"display:none;\">\n",
              "\n",
              "  <svg xmlns=\"http://www.w3.org/2000/svg\" height=\"24px\" viewBox=\"0 -960 960 960\">\n",
              "    <path d=\"M120-120v-720h720v720H120Zm60-500h600v-160H180v160Zm220 220h160v-160H400v160Zm0 220h160v-160H400v160ZM180-400h160v-160H180v160Zm440 0h160v-160H620v160ZM180-180h160v-160H180v160Zm440 0h160v-160H620v160Z\"/>\n",
              "  </svg>\n",
              "    </button>\n",
              "\n",
              "  <style>\n",
              "    .colab-df-container {\n",
              "      display:flex;\n",
              "      gap: 12px;\n",
              "    }\n",
              "\n",
              "    .colab-df-convert {\n",
              "      background-color: #E8F0FE;\n",
              "      border: none;\n",
              "      border-radius: 50%;\n",
              "      cursor: pointer;\n",
              "      display: none;\n",
              "      fill: #1967D2;\n",
              "      height: 32px;\n",
              "      padding: 0 0 0 0;\n",
              "      width: 32px;\n",
              "    }\n",
              "\n",
              "    .colab-df-convert:hover {\n",
              "      background-color: #E2EBFA;\n",
              "      box-shadow: 0px 1px 2px rgba(60, 64, 67, 0.3), 0px 1px 3px 1px rgba(60, 64, 67, 0.15);\n",
              "      fill: #174EA6;\n",
              "    }\n",
              "\n",
              "    .colab-df-buttons div {\n",
              "      margin-bottom: 4px;\n",
              "    }\n",
              "\n",
              "    [theme=dark] .colab-df-convert {\n",
              "      background-color: #3B4455;\n",
              "      fill: #D2E3FC;\n",
              "    }\n",
              "\n",
              "    [theme=dark] .colab-df-convert:hover {\n",
              "      background-color: #434B5C;\n",
              "      box-shadow: 0px 1px 3px 1px rgba(0, 0, 0, 0.15);\n",
              "      filter: drop-shadow(0px 1px 2px rgba(0, 0, 0, 0.3));\n",
              "      fill: #FFFFFF;\n",
              "    }\n",
              "  </style>\n",
              "\n",
              "    <script>\n",
              "      const buttonEl =\n",
              "        document.querySelector('#df-f796b8da-9b62-4231-9279-7aede9bbcf9d button.colab-df-convert');\n",
              "      buttonEl.style.display =\n",
              "        google.colab.kernel.accessAllowed ? 'block' : 'none';\n",
              "\n",
              "      async function convertToInteractive(key) {\n",
              "        const element = document.querySelector('#df-f796b8da-9b62-4231-9279-7aede9bbcf9d');\n",
              "        const dataTable =\n",
              "          await google.colab.kernel.invokeFunction('convertToInteractive',\n",
              "                                                    [key], {});\n",
              "        if (!dataTable) return;\n",
              "\n",
              "        const docLinkHtml = 'Like what you see? Visit the ' +\n",
              "          '<a target=\"_blank\" href=https://colab.research.google.com/notebooks/data_table.ipynb>data table notebook</a>'\n",
              "          + ' to learn more about interactive tables.';\n",
              "        element.innerHTML = '';\n",
              "        dataTable['output_type'] = 'display_data';\n",
              "        await google.colab.output.renderOutput(dataTable, element);\n",
              "        const docLink = document.createElement('div');\n",
              "        docLink.innerHTML = docLinkHtml;\n",
              "        element.appendChild(docLink);\n",
              "      }\n",
              "    </script>\n",
              "  </div>\n",
              "\n",
              "    </div>\n",
              "  </div>\n"
            ]
          },
          "metadata": {},
          "execution_count": 9
        }
      ]
    },
    {
      "cell_type": "code",
      "source": [
        "df_first.Label.value_counts()"
      ],
      "metadata": {
        "colab": {
          "base_uri": "https://localhost:8080/"
        },
        "id": "S2i7DzWs6nhs",
        "outputId": "c62a6939-eeef-4389-9e33-df060884b4be"
      },
      "execution_count": null,
      "outputs": [
        {
          "output_type": "execute_result",
          "data": {
            "text/plain": [
              "anxiety       10000\n",
              "depression     9998\n",
              "stress         9996\n",
              "Name: Label, dtype: int64"
            ]
          },
          "metadata": {},
          "execution_count": 10
        }
      ]
    },
    {
      "cell_type": "markdown",
      "source": [
        "# Model Building with BERT"
      ],
      "metadata": {
        "id": "xVyFK8li4TUY"
      }
    },
    {
      "cell_type": "code",
      "source": [
        "max_length = df_first.apply(lambda x: len(str(x).split())).max()\n",
        "max_length"
      ],
      "metadata": {
        "colab": {
          "base_uri": "https://localhost:8080/"
        },
        "id": "NXNOj5W-Dg5J",
        "outputId": "6bf414ba-71cd-4eae-df69-4105e7c7f8f3"
      },
      "execution_count": null,
      "outputs": [
        {
          "output_type": "execute_result",
          "data": {
            "text/plain": [
              "88"
            ]
          },
          "metadata": {},
          "execution_count": 11
        }
      ]
    },
    {
      "cell_type": "code",
      "source": [
        "# Importing BERT pre-trained model and tokenizer\n",
        "model_name = 'bert-base-uncased'\n",
        "config = BertConfig.from_pretrained(model_name, output_hidden_states=False)\n",
        "tokenizer = BertTokenizerFast.from_pretrained(pretrained_model_name_or_path = model_name, config = config)\n",
        "transformer_model = TFBertModel.from_pretrained(model_name, config = config)"
      ],
      "metadata": {
        "colab": {
          "base_uri": "https://localhost:8080/"
        },
        "id": "W0hkKmixKLXz",
        "outputId": "0ffd8da8-4df5-4089-b130-aefd8dacbad1"
      },
      "execution_count": null,
      "outputs": [
        {
          "output_type": "stream",
          "name": "stderr",
          "text": [
            "Some weights of the PyTorch model were not used when initializing the TF 2.0 model TFBertModel: ['cls.predictions.bias', 'cls.predictions.transform.dense.bias', 'cls.predictions.transform.dense.weight', 'cls.seq_relationship.bias', 'cls.predictions.transform.LayerNorm.weight', 'cls.seq_relationship.weight', 'cls.predictions.transform.LayerNorm.bias']\n",
            "- This IS expected if you are initializing TFBertModel from a PyTorch model trained on another task or with another architecture (e.g. initializing a TFBertForSequenceClassification model from a BertForPreTraining model).\n",
            "- This IS NOT expected if you are initializing TFBertModel from a PyTorch model that you expect to be exactly identical (e.g. initializing a TFBertForSequenceClassification model from a BertForSequenceClassification model).\n",
            "All the weights of TFBertModel were initialized from the PyTorch model.\n",
            "If your task is similar to the task the model of the checkpoint was trained on, you can already use TFBertModel for predictions without further training.\n"
          ]
        }
      ]
    },
    {
      "cell_type": "code",
      "source": [
        "# function for creating BERT based model\n",
        "def create_model(nb_labels):\n",
        "  # Load the MainLayer\n",
        "  bert = transformer_model.layers[0]\n",
        "\n",
        "  # Build the model inputs\n",
        "  input_ids = Input(shape=(max_length,), name='input_ids', dtype='int32')\n",
        "  attention_mask = Input(shape=(max_length,), name='attention_mask', dtype='int32')\n",
        "  token_type_ids = Input(shape=(max_length,), name='token_type_ids', dtype='int32')\n",
        "\n",
        "  inputs = {'input_ids': input_ids, 'attention_mask': attention_mask, 'token_type_ids': token_type_ids}\n",
        "\n",
        "  # BERT layer\n",
        "  bert_output = bert(input_ids, attention_mask=attention_mask, token_type_ids=token_type_ids)[1]\n",
        "\n",
        "  # Add dropout layers for regularization\n",
        "  outputs = Dropout(0.2)(bert_output)\n",
        "\n",
        "  # Output layer\n",
        "  emotion = Dense(units=nb_labels, activation=\"softmax\", kernel_initializer=TruncatedNormal(stddev=config.initializer_range), name='emotion')(outputs)\n",
        "  outputs = emotion\n",
        "\n",
        "  # Build the model\n",
        "  model = Model(inputs=inputs, outputs=outputs, name='BERT_MultiLabel')\n",
        "\n",
        "  return model"
      ],
      "metadata": {
        "id": "Z9y8umdEKYeX"
      },
      "execution_count": null,
      "outputs": []
    },
    {
      "cell_type": "code",
      "source": [
        "# Creating a model instance\n",
        "model = create_model(3)\n",
        "\n",
        "# Take a look at the model\n",
        "model.summary()"
      ],
      "metadata": {
        "colab": {
          "base_uri": "https://localhost:8080/"
        },
        "id": "r2O_6OvTLC2r",
        "outputId": "575ec08f-73c6-49a9-a3f1-e53efe59c903"
      },
      "execution_count": null,
      "outputs": [
        {
          "output_type": "stream",
          "name": "stdout",
          "text": [
            "Model: \"BERT_MultiLabel\"\n",
            "__________________________________________________________________________________________________\n",
            " Layer (type)                Output Shape                 Param #   Connected to                  \n",
            "==================================================================================================\n",
            " input_ids (InputLayer)      [(None, 88)]                 0         []                            \n",
            "                                                                                                  \n",
            " attention_mask (InputLayer  [(None, 88)]                 0         []                            \n",
            " )                                                                                                \n",
            "                                                                                                  \n",
            " token_type_ids (InputLayer  [(None, 88)]                 0         []                            \n",
            " )                                                                                                \n",
            "                                                                                                  \n",
            " bert (TFBertMainLayer)      TFBaseModelOutputWithPooli   1094822   ['input_ids[0][0]',           \n",
            "                             ngAndCrossAttentions(last_   40         'attention_mask[0][0]',      \n",
            "                             hidden_state=(None, 88, 76              'token_type_ids[0][0]']      \n",
            "                             8),                                                                  \n",
            "                              pooler_output=(None, 768)                                           \n",
            "                             , past_key_values=None, hi                                           \n",
            "                             dden_states=None, attentio                                           \n",
            "                             ns=None, cross_attentions=                                           \n",
            "                             None)                                                                \n",
            "                                                                                                  \n",
            " dropout_37 (Dropout)        (None, 768)                  0         ['bert[0][1]']                \n",
            "                                                                                                  \n",
            " emotion (Dense)             (None, 3)                    2307      ['dropout_37[0][0]']          \n",
            "                                                                                                  \n",
            "==================================================================================================\n",
            "Total params: 109484547 (417.65 MB)\n",
            "Trainable params: 109484547 (417.65 MB)\n",
            "Non-trainable params: 0 (0.00 Byte)\n",
            "__________________________________________________________________________________________________\n"
          ]
        }
      ]
    },
    {
      "cell_type": "markdown",
      "source": [
        "# Text Preprocessing and Data Preparation"
      ],
      "metadata": {
        "id": "cz9pP3te4L73"
      }
    },
    {
      "cell_type": "code",
      "source": [
        "# Splitting the data into 80% training, 10% validation, and 10% test\n",
        "train_data, temp_data = train_test_split(df_first, test_size=0.2, random_state=42)\n",
        "val_data, test_data = train_test_split(temp_data, test_size=0.5, random_state=42)\n",
        "\n",
        "# Creating train, validation, and test variables\n",
        "X_train = train_data['Text']\n",
        "y_train = train_data['Label']\n",
        "\n",
        "X_val = val_data['Text']\n",
        "y_val = val_data['Label']\n",
        "\n",
        "X_test = test_data['Text']\n",
        "y_test = test_data['Label']"
      ],
      "metadata": {
        "id": "fcLRLvS8NlKY"
      },
      "execution_count": null,
      "outputs": []
    },
    {
      "cell_type": "code",
      "source": [
        "# Tokenizing train data\n",
        "train_token = tokenizer(\n",
        "    text = X_train.to_list(),\n",
        "    add_special_tokens = True,\n",
        "    max_length = max_length,\n",
        "    truncation = True,\n",
        "    padding = 'max_length',\n",
        "    return_tensors = 'tf',\n",
        "    return_token_type_ids = True,\n",
        "    return_attention_mask = True,\n",
        "    verbose = True)\n",
        "\n",
        "# Tokenizing valisation data\n",
        "val_token = tokenizer(\n",
        "    text = X_val.to_list(),\n",
        "    add_special_tokens = True,\n",
        "    max_length = max_length,\n",
        "    truncation = True,\n",
        "    padding = 'max_length',\n",
        "    return_tensors = 'tf',\n",
        "    return_token_type_ids = True,\n",
        "    return_attention_mask = True,\n",
        "    verbose = True)\n",
        "\n",
        "# Tokenizing test data\n",
        "test_token = tokenizer(\n",
        "    text = X_test.to_list(),\n",
        "    add_special_tokens = True,\n",
        "    max_length = max_length,\n",
        "    truncation = True,\n",
        "    padding = 'max_length',\n",
        "    return_tensors = 'tf',\n",
        "    return_token_type_ids = True,\n",
        "    return_attention_mask = True,\n",
        "    verbose = True)"
      ],
      "metadata": {
        "id": "lHmH4KqOOF-G"
      },
      "execution_count": null,
      "outputs": []
    },
    {
      "cell_type": "code",
      "source": [
        "# Creating BERT compatible inputs with Input Ids, attention masks, and token Ids\n",
        "train = {'input_ids': train_token['input_ids'], 'attention_mask': train_token['attention_mask'], 'token_type_ids': train_token['token_type_ids']}\n",
        "val = {'input_ids': val_token['input_ids'], 'attention_mask': val_token['attention_mask'], 'token_type_ids': val_token['token_type_ids']}\n",
        "test = {'input_ids': test_token['input_ids'], 'attention_mask': test_token['attention_mask'], 'token_type_ids': test_token['token_type_ids']}"
      ],
      "metadata": {
        "id": "KAMWB2raOkVv"
      },
      "execution_count": null,
      "outputs": []
    },
    {
      "cell_type": "code",
      "source": [
        "# Convert labels to numerical values using LabelEncoder\n",
        "label_encoder = LabelEncoder()\n",
        "y_train_encoded = label_encoder.fit_transform(y_train)\n",
        "y_val_encoded = label_encoder.transform(y_val)\n",
        "y_test_encoded = label_encoder.transform(y_test)\n",
        "\n",
        "# Convert numerical labels to one-hot encoding\n",
        "y_train_one_hot = to_categorical(y_train_encoded, num_classes=3)\n",
        "y_val_one_hot = to_categorical(y_val_encoded, num_classes=3)\n",
        "y_test_one_hot = to_categorical(y_test_encoded, num_classes=3)"
      ],
      "metadata": {
        "id": "JSkBrPz0SYAj"
      },
      "execution_count": null,
      "outputs": []
    },
    {
      "cell_type": "code",
      "source": [
        "# Creating TF tensors\n",
        "train_tensor = tf.data.Dataset.from_tensor_slices((train, y_train_one_hot)).shuffle(len(train)).batch(16)\n",
        "val_tensor = tf.data.Dataset.from_tensor_slices((val, y_val_one_hot)).shuffle(len(val)).batch(16)\n",
        "test_tensor = tf.data.Dataset.from_tensor_slices((test, y_test_one_hot)).shuffle(len(test)).batch(16)"
      ],
      "metadata": {
        "id": "xpM3FL0COsID"
      },
      "execution_count": null,
      "outputs": []
    },
    {
      "cell_type": "markdown",
      "source": [
        "# Training Model with BERT"
      ],
      "metadata": {
        "id": "OGwcUmD_4qws"
      }
    },
    {
      "cell_type": "code",
      "source": [
        "# Set up EarlyStopping and ReduceLROnPlateau callbacks\n",
        "early_stopping = EarlyStopping(monitor='val_loss', patience=3, restore_best_weights=True)\n",
        "reduce_lr = ReduceLROnPlateau(monitor='val_loss', factor=0.2, patience=2, min_lr=1e-6)\n",
        "\n",
        "# Set an optimizer\n",
        "optimizer = Adam(\n",
        "    learning_rate=3.e-05,)\n",
        "\n",
        "# Compile the model\n",
        "model.compile(\n",
        "    optimizer = optimizer,\n",
        "    loss ='categorical_crossentropy',\n",
        "    metrics=['accuracy'])\n",
        "\n",
        "# train the model\n",
        "history = model.fit(train_tensor,\n",
        "                    epochs=15,\n",
        "                    validation_data=val_tensor,\n",
        "                    callbacks=[reduce_lr])"
      ],
      "metadata": {
        "colab": {
          "base_uri": "https://localhost:8080/"
        },
        "id": "w6CCLVqKOyk7",
        "outputId": "3e8f8287-007e-4451-906b-9919f13da8ba"
      },
      "execution_count": null,
      "outputs": [
        {
          "output_type": "stream",
          "name": "stdout",
          "text": [
            "Epoch 1/15\n",
            "1500/1500 [==============================] - 528s 323ms/step - loss: 0.5065 - accuracy: 0.7755 - val_loss: 0.3810 - val_accuracy: 0.8389 - lr: 3.0000e-05\n",
            "Epoch 2/15\n",
            "1500/1500 [==============================] - 483s 322ms/step - loss: 0.3635 - accuracy: 0.8493 - val_loss: 0.3902 - val_accuracy: 0.8399 - lr: 3.0000e-05\n",
            "Epoch 3/15\n",
            "1500/1500 [==============================] - 483s 322ms/step - loss: 0.3127 - accuracy: 0.8747 - val_loss: 0.3780 - val_accuracy: 0.8520 - lr: 3.0000e-05\n",
            "Epoch 4/15\n",
            "1500/1500 [==============================] - 485s 323ms/step - loss: 0.2664 - accuracy: 0.8967 - val_loss: 0.3956 - val_accuracy: 0.8583 - lr: 3.0000e-05\n",
            "Epoch 5/15\n",
            "1500/1500 [==============================] - 483s 322ms/step - loss: 0.2215 - accuracy: 0.9167 - val_loss: 0.3916 - val_accuracy: 0.8620 - lr: 3.0000e-05\n",
            "Epoch 6/15\n",
            "1500/1500 [==============================] - 486s 324ms/step - loss: 0.1552 - accuracy: 0.9435 - val_loss: 0.4770 - val_accuracy: 0.8623 - lr: 6.0000e-06\n",
            "Epoch 7/15\n",
            "1500/1500 [==============================] - 483s 322ms/step - loss: 0.1201 - accuracy: 0.9574 - val_loss: 0.5164 - val_accuracy: 0.8603 - lr: 6.0000e-06\n",
            "Epoch 8/15\n",
            "1500/1500 [==============================] - 483s 322ms/step - loss: 0.0909 - accuracy: 0.9686 - val_loss: 0.5095 - val_accuracy: 0.8603 - lr: 1.2000e-06\n",
            "Epoch 9/15\n",
            " 143/1500 [=>............................] - ETA: 7:00 - loss: 0.1092 - accuracy: 0.9615"
          ]
        }
      ]
    },
    {
      "cell_type": "markdown",
      "source": [
        "# Model Evaluation and Prediction"
      ],
      "metadata": {
        "id": "qK2URXr74xZY"
      }
    },
    {
      "cell_type": "code",
      "source": [
        "# Model evaluation using test data\n",
        "evaluation_results = model.evaluate(val_tensor)\n",
        "\n",
        "# Display evaluation results\n",
        "print(\"Loss:\", evaluation_results[0])\n",
        "print(\"Accuracy:\", evaluation_results[1])"
      ],
      "metadata": {
        "id": "4GZHYS5iUpfi"
      },
      "execution_count": null,
      "outputs": []
    },
    {
      "cell_type": "code",
      "source": [
        "# Describes the new data to be predicted\n",
        "new_data = [\"hari ini gw stress banget fuckkk\"]\n",
        "\n",
        "# Pre-processing of new data, including tokenization and padding\n",
        "new_tokenized = tokenizer(new_data, return_tensors='tf', padding=True, truncation=True, max_length=max_length)\n",
        "\n",
        "# Make predictions using the model\n",
        "predictions = model.predict({'input_ids': new_tokenized['input_ids'],\n",
        "                              'attention_mask': new_tokenized['attention_mask'],\n",
        "                              'token_type_ids': new_tokenized['token_type_ids']})\n",
        "\n",
        "# Display the prediction result\n",
        "for i, text in enumerate(new_data):\n",
        "    print(f\"Text: {text}\")\n",
        "\n",
        "    # Displays the probability for each category\n",
        "    for j, category in enumerate(label_encoder.classes_):\n",
        "        probability = predictions[i][j] * 100\n",
        "        print(f\"{category} Probability: {probability:.2f}%\")\n",
        "\n",
        "    # Determine the category with the highest probability as the prediction\n",
        "    predicted_class = label_encoder.classes_[np.argmax(predictions[i])]\n",
        "    print(f\"Predicted Class: {predicted_class}\")\n",
        "\n",
        "    # Added if-else logic to display statements based on predictions\n",
        "    if predicted_class == 'anxiety' and predictions[i][1] > 0.5:\n",
        "        print(\"Model predicts high probability of anxiety.\")\n",
        "    elif predicted_class == 'depression' and predictions[i][2] > 0.5:\n",
        "        print(\"Model predicts high probability of depression.\")\n",
        "    elif predicted_class == 'adhd' and predictions[i][0] > 0.5:\n",
        "        print(\"Model predicts high probability of ADHD.\")\n",
        "    else:\n",
        "        print(\"Model predicts other mental health condition.\")"
      ],
      "metadata": {
        "id": "ZgSRrF5VWAl2"
      },
      "execution_count": null,
      "outputs": []
    },
    {
      "cell_type": "markdown",
      "source": [
        "# Model Saving"
      ],
      "metadata": {
        "id": "8ri1cVF440SI"
      }
    },
    {
      "cell_type": "code",
      "source": [
        "# Save the model into SavedModel format\n",
        "#model.save(\"/content/drive/MyDrive/Model/path_to_saved_model_BERT\", save_format=\"tf\")"
      ],
      "metadata": {
        "id": "8094K5qHtY1b"
      },
      "execution_count": null,
      "outputs": []
    },
    {
      "cell_type": "code",
      "source": [
        "# Simpan model dalam format SavedModel\n",
        "#model.save(\"/content/drive/MyDrive/mental_health_detection_model_using_BERT\")\n",
        "\n",
        "# Unduh sebagai ZIP\n",
        "#!zip -r mental_health_detection_model_using_BERT.zip /content/drive/MyDrive/mental_health_detection_model_using_BERT"
      ],
      "metadata": {
        "id": "eHDKjYcIyrh6"
      },
      "execution_count": null,
      "outputs": []
    }
  ]
}