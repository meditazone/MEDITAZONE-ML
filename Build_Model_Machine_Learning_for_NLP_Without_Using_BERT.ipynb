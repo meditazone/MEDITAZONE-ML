{
  "cells": [
    {
      "cell_type": "markdown",
      "source": [
        "# Importing Libraries"
      ],
      "metadata": {
        "id": "WenMgCGoOcbE"
      }
    },
    {
      "cell_type": "code",
      "execution_count": null,
      "metadata": {
        "colab": {
          "base_uri": "https://localhost:8080/"
        },
        "id": "lQl3v684vaA-",
        "outputId": "48855163-2d18-4206-bccb-37de4a358ffb"
      },
      "outputs": [
        {
          "output_type": "stream",
          "name": "stdout",
          "text": [
            "Drive already mounted at /content/drive; to attempt to forcibly remount, call drive.mount(\"/content/drive\", force_remount=True).\n"
          ]
        }
      ],
      "source": [
        "import numpy as np\n",
        "import pandas as pd\n",
        "import seaborn as sns\n",
        "import matplotlib.pyplot as plt\n",
        "from google.colab import files\n",
        "from google.colab import drive\n",
        "drive.mount('/content/drive')\n",
        "from sklearn.preprocessing import LabelEncoder\n",
        "\n",
        "from tensorflow.keras.utils import to_categorical\n",
        "from tensorflow.keras.preprocessing.text import Tokenizer\n",
        "from tensorflow.keras.preprocessing.sequence import pad_sequences\n",
        "\n",
        "import tensorflow as tf\n",
        "from tensorflow.keras.optimizers import Adam\n",
        "from tensorflow.keras.models import Sequential\n",
        "from tensorflow.keras.callbacks import EarlyStopping, LearningRateScheduler\n",
        "from tensorflow.keras.models import Model\n",
        "from tensorflow.keras.layers import Dense, LSTM, Embedding, Bidirectional, GlobalAveragePooling1D, Flatten, Dropout, BatchNormalization, Input\n",
        "\n",
        "from sklearn.model_selection import train_test_split\n",
        "from sklearn.metrics import accuracy_score,confusion_matrix, classification_report\n",
        "\n",
        "#Transfer Learning\n",
        "from transformers import AutoTokenizer, TFBertModel"
      ]
    },
    {
      "cell_type": "markdown",
      "source": [
        "# Data Loading and Preprocessing"
      ],
      "metadata": {
        "id": "GIenYm4bOhKl"
      }
    },
    {
      "cell_type": "code",
      "execution_count": null,
      "metadata": {
        "colab": {
          "base_uri": "https://localhost:8080/",
          "height": 206
        },
        "id": "-7Eh0mTIxZkP",
        "outputId": "7fb8e5ca-9d4c-42b7-99f9-37a9fe37e265"
      },
      "outputs": [
        {
          "output_type": "execute_result",
          "data": {
            "text/plain": [
              "  Label                                               Text\n",
              "0  adhd  Berapa jauh di depan saya sekarang? Ventilasi ...\n",
              "1  adhd  ADHD Bipolar ada orang lain yang memiliki gang...\n",
              "2  adhd  Hubungan saya berantakan dan saya tidak tahu h...\n",
              "3  adhd  Bagi mereka yang berjuang untuk menulis kertas...\n",
              "4  adhd  Meds tidak menyembuhkan kemalasan kronis tetap..."
            ],
            "text/html": [
              "\n",
              "  <div id=\"df-7102ab22-042d-49ed-9a6d-e25e73e6b4d6\" class=\"colab-df-container\">\n",
              "    <div>\n",
              "<style scoped>\n",
              "    .dataframe tbody tr th:only-of-type {\n",
              "        vertical-align: middle;\n",
              "    }\n",
              "\n",
              "    .dataframe tbody tr th {\n",
              "        vertical-align: top;\n",
              "    }\n",
              "\n",
              "    .dataframe thead th {\n",
              "        text-align: right;\n",
              "    }\n",
              "</style>\n",
              "<table border=\"1\" class=\"dataframe\">\n",
              "  <thead>\n",
              "    <tr style=\"text-align: right;\">\n",
              "      <th></th>\n",
              "      <th>Label</th>\n",
              "      <th>Text</th>\n",
              "    </tr>\n",
              "  </thead>\n",
              "  <tbody>\n",
              "    <tr>\n",
              "      <th>0</th>\n",
              "      <td>adhd</td>\n",
              "      <td>Berapa jauh di depan saya sekarang? Ventilasi ...</td>\n",
              "    </tr>\n",
              "    <tr>\n",
              "      <th>1</th>\n",
              "      <td>adhd</td>\n",
              "      <td>ADHD Bipolar ada orang lain yang memiliki gang...</td>\n",
              "    </tr>\n",
              "    <tr>\n",
              "      <th>2</th>\n",
              "      <td>adhd</td>\n",
              "      <td>Hubungan saya berantakan dan saya tidak tahu h...</td>\n",
              "    </tr>\n",
              "    <tr>\n",
              "      <th>3</th>\n",
              "      <td>adhd</td>\n",
              "      <td>Bagi mereka yang berjuang untuk menulis kertas...</td>\n",
              "    </tr>\n",
              "    <tr>\n",
              "      <th>4</th>\n",
              "      <td>adhd</td>\n",
              "      <td>Meds tidak menyembuhkan kemalasan kronis tetap...</td>\n",
              "    </tr>\n",
              "  </tbody>\n",
              "</table>\n",
              "</div>\n",
              "    <div class=\"colab-df-buttons\">\n",
              "\n",
              "  <div class=\"colab-df-container\">\n",
              "    <button class=\"colab-df-convert\" onclick=\"convertToInteractive('df-7102ab22-042d-49ed-9a6d-e25e73e6b4d6')\"\n",
              "            title=\"Convert this dataframe to an interactive table.\"\n",
              "            style=\"display:none;\">\n",
              "\n",
              "  <svg xmlns=\"http://www.w3.org/2000/svg\" height=\"24px\" viewBox=\"0 -960 960 960\">\n",
              "    <path d=\"M120-120v-720h720v720H120Zm60-500h600v-160H180v160Zm220 220h160v-160H400v160Zm0 220h160v-160H400v160ZM180-400h160v-160H180v160Zm440 0h160v-160H620v160ZM180-180h160v-160H180v160Zm440 0h160v-160H620v160Z\"/>\n",
              "  </svg>\n",
              "    </button>\n",
              "\n",
              "  <style>\n",
              "    .colab-df-container {\n",
              "      display:flex;\n",
              "      gap: 12px;\n",
              "    }\n",
              "\n",
              "    .colab-df-convert {\n",
              "      background-color: #E8F0FE;\n",
              "      border: none;\n",
              "      border-radius: 50%;\n",
              "      cursor: pointer;\n",
              "      display: none;\n",
              "      fill: #1967D2;\n",
              "      height: 32px;\n",
              "      padding: 0 0 0 0;\n",
              "      width: 32px;\n",
              "    }\n",
              "\n",
              "    .colab-df-convert:hover {\n",
              "      background-color: #E2EBFA;\n",
              "      box-shadow: 0px 1px 2px rgba(60, 64, 67, 0.3), 0px 1px 3px 1px rgba(60, 64, 67, 0.15);\n",
              "      fill: #174EA6;\n",
              "    }\n",
              "\n",
              "    .colab-df-buttons div {\n",
              "      margin-bottom: 4px;\n",
              "    }\n",
              "\n",
              "    [theme=dark] .colab-df-convert {\n",
              "      background-color: #3B4455;\n",
              "      fill: #D2E3FC;\n",
              "    }\n",
              "\n",
              "    [theme=dark] .colab-df-convert:hover {\n",
              "      background-color: #434B5C;\n",
              "      box-shadow: 0px 1px 3px 1px rgba(0, 0, 0, 0.15);\n",
              "      filter: drop-shadow(0px 1px 2px rgba(0, 0, 0, 0.3));\n",
              "      fill: #FFFFFF;\n",
              "    }\n",
              "  </style>\n",
              "\n",
              "    <script>\n",
              "      const buttonEl =\n",
              "        document.querySelector('#df-7102ab22-042d-49ed-9a6d-e25e73e6b4d6 button.colab-df-convert');\n",
              "      buttonEl.style.display =\n",
              "        google.colab.kernel.accessAllowed ? 'block' : 'none';\n",
              "\n",
              "      async function convertToInteractive(key) {\n",
              "        const element = document.querySelector('#df-7102ab22-042d-49ed-9a6d-e25e73e6b4d6');\n",
              "        const dataTable =\n",
              "          await google.colab.kernel.invokeFunction('convertToInteractive',\n",
              "                                                    [key], {});\n",
              "        if (!dataTable) return;\n",
              "\n",
              "        const docLinkHtml = 'Like what you see? Visit the ' +\n",
              "          '<a target=\"_blank\" href=https://colab.research.google.com/notebooks/data_table.ipynb>data table notebook</a>'\n",
              "          + ' to learn more about interactive tables.';\n",
              "        element.innerHTML = '';\n",
              "        dataTable['output_type'] = 'display_data';\n",
              "        await google.colab.output.renderOutput(dataTable, element);\n",
              "        const docLink = document.createElement('div');\n",
              "        docLink.innerHTML = docLinkHtml;\n",
              "        element.appendChild(docLink);\n",
              "      }\n",
              "    </script>\n",
              "  </div>\n",
              "\n",
              "\n",
              "<div id=\"df-5b2ffdfd-ca6a-4305-9f42-f0ac2187da0d\">\n",
              "  <button class=\"colab-df-quickchart\" onclick=\"quickchart('df-5b2ffdfd-ca6a-4305-9f42-f0ac2187da0d')\"\n",
              "            title=\"Suggest charts\"\n",
              "            style=\"display:none;\">\n",
              "\n",
              "<svg xmlns=\"http://www.w3.org/2000/svg\" height=\"24px\"viewBox=\"0 0 24 24\"\n",
              "     width=\"24px\">\n",
              "    <g>\n",
              "        <path d=\"M19 3H5c-1.1 0-2 .9-2 2v14c0 1.1.9 2 2 2h14c1.1 0 2-.9 2-2V5c0-1.1-.9-2-2-2zM9 17H7v-7h2v7zm4 0h-2V7h2v10zm4 0h-2v-4h2v4z\"/>\n",
              "    </g>\n",
              "</svg>\n",
              "  </button>\n",
              "\n",
              "<style>\n",
              "  .colab-df-quickchart {\n",
              "      --bg-color: #E8F0FE;\n",
              "      --fill-color: #1967D2;\n",
              "      --hover-bg-color: #E2EBFA;\n",
              "      --hover-fill-color: #174EA6;\n",
              "      --disabled-fill-color: #AAA;\n",
              "      --disabled-bg-color: #DDD;\n",
              "  }\n",
              "\n",
              "  [theme=dark] .colab-df-quickchart {\n",
              "      --bg-color: #3B4455;\n",
              "      --fill-color: #D2E3FC;\n",
              "      --hover-bg-color: #434B5C;\n",
              "      --hover-fill-color: #FFFFFF;\n",
              "      --disabled-bg-color: #3B4455;\n",
              "      --disabled-fill-color: #666;\n",
              "  }\n",
              "\n",
              "  .colab-df-quickchart {\n",
              "    background-color: var(--bg-color);\n",
              "    border: none;\n",
              "    border-radius: 50%;\n",
              "    cursor: pointer;\n",
              "    display: none;\n",
              "    fill: var(--fill-color);\n",
              "    height: 32px;\n",
              "    padding: 0;\n",
              "    width: 32px;\n",
              "  }\n",
              "\n",
              "  .colab-df-quickchart:hover {\n",
              "    background-color: var(--hover-bg-color);\n",
              "    box-shadow: 0 1px 2px rgba(60, 64, 67, 0.3), 0 1px 3px 1px rgba(60, 64, 67, 0.15);\n",
              "    fill: var(--button-hover-fill-color);\n",
              "  }\n",
              "\n",
              "  .colab-df-quickchart-complete:disabled,\n",
              "  .colab-df-quickchart-complete:disabled:hover {\n",
              "    background-color: var(--disabled-bg-color);\n",
              "    fill: var(--disabled-fill-color);\n",
              "    box-shadow: none;\n",
              "  }\n",
              "\n",
              "  .colab-df-spinner {\n",
              "    border: 2px solid var(--fill-color);\n",
              "    border-color: transparent;\n",
              "    border-bottom-color: var(--fill-color);\n",
              "    animation:\n",
              "      spin 1s steps(1) infinite;\n",
              "  }\n",
              "\n",
              "  @keyframes spin {\n",
              "    0% {\n",
              "      border-color: transparent;\n",
              "      border-bottom-color: var(--fill-color);\n",
              "      border-left-color: var(--fill-color);\n",
              "    }\n",
              "    20% {\n",
              "      border-color: transparent;\n",
              "      border-left-color: var(--fill-color);\n",
              "      border-top-color: var(--fill-color);\n",
              "    }\n",
              "    30% {\n",
              "      border-color: transparent;\n",
              "      border-left-color: var(--fill-color);\n",
              "      border-top-color: var(--fill-color);\n",
              "      border-right-color: var(--fill-color);\n",
              "    }\n",
              "    40% {\n",
              "      border-color: transparent;\n",
              "      border-right-color: var(--fill-color);\n",
              "      border-top-color: var(--fill-color);\n",
              "    }\n",
              "    60% {\n",
              "      border-color: transparent;\n",
              "      border-right-color: var(--fill-color);\n",
              "    }\n",
              "    80% {\n",
              "      border-color: transparent;\n",
              "      border-right-color: var(--fill-color);\n",
              "      border-bottom-color: var(--fill-color);\n",
              "    }\n",
              "    90% {\n",
              "      border-color: transparent;\n",
              "      border-bottom-color: var(--fill-color);\n",
              "    }\n",
              "  }\n",
              "</style>\n",
              "\n",
              "  <script>\n",
              "    async function quickchart(key) {\n",
              "      const quickchartButtonEl =\n",
              "        document.querySelector('#' + key + ' button');\n",
              "      quickchartButtonEl.disabled = true;  // To prevent multiple clicks.\n",
              "      quickchartButtonEl.classList.add('colab-df-spinner');\n",
              "      try {\n",
              "        const charts = await google.colab.kernel.invokeFunction(\n",
              "            'suggestCharts', [key], {});\n",
              "      } catch (error) {\n",
              "        console.error('Error during call to suggestCharts:', error);\n",
              "      }\n",
              "      quickchartButtonEl.classList.remove('colab-df-spinner');\n",
              "      quickchartButtonEl.classList.add('colab-df-quickchart-complete');\n",
              "    }\n",
              "    (() => {\n",
              "      let quickchartButtonEl =\n",
              "        document.querySelector('#df-5b2ffdfd-ca6a-4305-9f42-f0ac2187da0d button');\n",
              "      quickchartButtonEl.style.display =\n",
              "        google.colab.kernel.accessAllowed ? 'block' : 'none';\n",
              "    })();\n",
              "  </script>\n",
              "</div>\n",
              "    </div>\n",
              "  </div>\n"
            ]
          },
          "metadata": {},
          "execution_count": 2
        }
      ],
      "source": [
        "# Change the path according to the location of your CSV file\n",
        "file_path = '/content/drive/MyDrive/Dataset for Capstone/dataset.csv'\n",
        "\n",
        "# Read data from a csv file and create a DataFrame\n",
        "df_first = pd.read_csv(file_path, sep=';', encoding='latin1')\n",
        "df_first = df_first.rename(columns={'Column1': 'Label', 'Column2': 'Text'})\n",
        "\n",
        "# Display the first few rows of the DataFrame\n",
        "df_first.head()"
      ]
    },
    {
      "cell_type": "code",
      "execution_count": null,
      "metadata": {
        "colab": {
          "base_uri": "https://localhost:8080/"
        },
        "id": "kF5DB19N_Nn_",
        "outputId": "84897ac7-7f46-4e8c-c6fd-1f2e65311ce2"
      },
      "outputs": [
        {
          "output_type": "stream",
          "name": "stdout",
          "text": [
            "Number of row :  59996\n",
            "Number of column :  2\n"
          ]
        }
      ],
      "source": [
        "print('Number of row : ', df_first.shape[0])\n",
        "print('Number of column : ', df_first.shape[1])"
      ]
    },
    {
      "cell_type": "code",
      "execution_count": null,
      "metadata": {
        "colab": {
          "base_uri": "https://localhost:8080/"
        },
        "id": "BURtCMGW_x-H",
        "outputId": "6586d3ce-2d9d-4663-c4cb-4c0fb10970a9"
      },
      "outputs": [
        {
          "output_type": "execute_result",
          "data": {
            "text/plain": [
              "Label    0\n",
              "Text     0\n",
              "dtype: int64"
            ]
          },
          "metadata": {},
          "execution_count": 4
        }
      ],
      "source": [
        "df_first.isnull().sum()"
      ]
    },
    {
      "cell_type": "code",
      "execution_count": null,
      "metadata": {
        "colab": {
          "base_uri": "https://localhost:8080/"
        },
        "id": "m7pHja6g_3ws",
        "outputId": "4c3690f5-0a15-4b97-97bc-5fa2f3d372d0"
      },
      "outputs": [
        {
          "output_type": "stream",
          "name": "stdout",
          "text": [
            "<class 'pandas.core.frame.DataFrame'>\n",
            "RangeIndex: 59996 entries, 0 to 59995\n",
            "Data columns (total 2 columns):\n",
            " #   Column  Non-Null Count  Dtype \n",
            "---  ------  --------------  ----- \n",
            " 0   Label   59996 non-null  object\n",
            " 1   Text    59996 non-null  object\n",
            "dtypes: object(2)\n",
            "memory usage: 937.6+ KB\n"
          ]
        }
      ],
      "source": [
        "df_first.info()"
      ]
    },
    {
      "cell_type": "code",
      "execution_count": null,
      "metadata": {
        "colab": {
          "base_uri": "https://localhost:8080/"
        },
        "id": "6gW_rdozAKxZ",
        "outputId": "7b2c107b-7dda-475c-bbc7-1bc7c094c50e"
      },
      "outputs": [
        {
          "output_type": "execute_result",
          "data": {
            "text/plain": [
              "5"
            ]
          },
          "metadata": {},
          "execution_count": 6
        }
      ],
      "source": [
        "df_first.duplicated().sum()"
      ]
    },
    {
      "cell_type": "code",
      "execution_count": null,
      "metadata": {
        "id": "gq-QUC62AVhg"
      },
      "outputs": [],
      "source": [
        "#removing duplicated values\n",
        "index = df_first[df_first.duplicated() == True].index\n",
        "df_first.drop(index, axis = 0, inplace= True)\n",
        "df_first.reset_index(inplace= True, drop= True)"
      ]
    },
    {
      "cell_type": "code",
      "execution_count": null,
      "metadata": {
        "colab": {
          "base_uri": "https://localhost:8080/",
          "height": 53
        },
        "id": "9eroS3sbAuHl",
        "outputId": "86583858-be59-4f11-8e7e-246969c9bffa"
      },
      "outputs": [
        {
          "output_type": "execute_result",
          "data": {
            "text/plain": [
              "Empty DataFrame\n",
              "Columns: [Label, Text]\n",
              "Index: []"
            ],
            "text/html": [
              "\n",
              "  <div id=\"df-7b9d58f4-7b83-4cbc-8967-8202fe6cba09\" class=\"colab-df-container\">\n",
              "    <div>\n",
              "<style scoped>\n",
              "    .dataframe tbody tr th:only-of-type {\n",
              "        vertical-align: middle;\n",
              "    }\n",
              "\n",
              "    .dataframe tbody tr th {\n",
              "        vertical-align: top;\n",
              "    }\n",
              "\n",
              "    .dataframe thead th {\n",
              "        text-align: right;\n",
              "    }\n",
              "</style>\n",
              "<table border=\"1\" class=\"dataframe\">\n",
              "  <thead>\n",
              "    <tr style=\"text-align: right;\">\n",
              "      <th></th>\n",
              "      <th>Label</th>\n",
              "      <th>Text</th>\n",
              "    </tr>\n",
              "  </thead>\n",
              "  <tbody>\n",
              "  </tbody>\n",
              "</table>\n",
              "</div>\n",
              "    <div class=\"colab-df-buttons\">\n",
              "\n",
              "  <div class=\"colab-df-container\">\n",
              "    <button class=\"colab-df-convert\" onclick=\"convertToInteractive('df-7b9d58f4-7b83-4cbc-8967-8202fe6cba09')\"\n",
              "            title=\"Convert this dataframe to an interactive table.\"\n",
              "            style=\"display:none;\">\n",
              "\n",
              "  <svg xmlns=\"http://www.w3.org/2000/svg\" height=\"24px\" viewBox=\"0 -960 960 960\">\n",
              "    <path d=\"M120-120v-720h720v720H120Zm60-500h600v-160H180v160Zm220 220h160v-160H400v160Zm0 220h160v-160H400v160ZM180-400h160v-160H180v160Zm440 0h160v-160H620v160ZM180-180h160v-160H180v160Zm440 0h160v-160H620v160Z\"/>\n",
              "  </svg>\n",
              "    </button>\n",
              "\n",
              "  <style>\n",
              "    .colab-df-container {\n",
              "      display:flex;\n",
              "      gap: 12px;\n",
              "    }\n",
              "\n",
              "    .colab-df-convert {\n",
              "      background-color: #E8F0FE;\n",
              "      border: none;\n",
              "      border-radius: 50%;\n",
              "      cursor: pointer;\n",
              "      display: none;\n",
              "      fill: #1967D2;\n",
              "      height: 32px;\n",
              "      padding: 0 0 0 0;\n",
              "      width: 32px;\n",
              "    }\n",
              "\n",
              "    .colab-df-convert:hover {\n",
              "      background-color: #E2EBFA;\n",
              "      box-shadow: 0px 1px 2px rgba(60, 64, 67, 0.3), 0px 1px 3px 1px rgba(60, 64, 67, 0.15);\n",
              "      fill: #174EA6;\n",
              "    }\n",
              "\n",
              "    .colab-df-buttons div {\n",
              "      margin-bottom: 4px;\n",
              "    }\n",
              "\n",
              "    [theme=dark] .colab-df-convert {\n",
              "      background-color: #3B4455;\n",
              "      fill: #D2E3FC;\n",
              "    }\n",
              "\n",
              "    [theme=dark] .colab-df-convert:hover {\n",
              "      background-color: #434B5C;\n",
              "      box-shadow: 0px 1px 3px 1px rgba(0, 0, 0, 0.15);\n",
              "      filter: drop-shadow(0px 1px 2px rgba(0, 0, 0, 0.3));\n",
              "      fill: #FFFFFF;\n",
              "    }\n",
              "  </style>\n",
              "\n",
              "    <script>\n",
              "      const buttonEl =\n",
              "        document.querySelector('#df-7b9d58f4-7b83-4cbc-8967-8202fe6cba09 button.colab-df-convert');\n",
              "      buttonEl.style.display =\n",
              "        google.colab.kernel.accessAllowed ? 'block' : 'none';\n",
              "\n",
              "      async function convertToInteractive(key) {\n",
              "        const element = document.querySelector('#df-7b9d58f4-7b83-4cbc-8967-8202fe6cba09');\n",
              "        const dataTable =\n",
              "          await google.colab.kernel.invokeFunction('convertToInteractive',\n",
              "                                                    [key], {});\n",
              "        if (!dataTable) return;\n",
              "\n",
              "        const docLinkHtml = 'Like what you see? Visit the ' +\n",
              "          '<a target=\"_blank\" href=https://colab.research.google.com/notebooks/data_table.ipynb>data table notebook</a>'\n",
              "          + ' to learn more about interactive tables.';\n",
              "        element.innerHTML = '';\n",
              "        dataTable['output_type'] = 'display_data';\n",
              "        await google.colab.output.renderOutput(dataTable, element);\n",
              "        const docLink = document.createElement('div');\n",
              "        docLink.innerHTML = docLinkHtml;\n",
              "        element.appendChild(docLink);\n",
              "      }\n",
              "    </script>\n",
              "  </div>\n",
              "\n",
              "    </div>\n",
              "  </div>\n"
            ]
          },
          "metadata": {},
          "execution_count": 8
        }
      ],
      "source": [
        "#print the rows which are duplicated (duplicated in the text but with different emotions)\n",
        "df_first[df_first['Text'].duplicated() == True]"
      ]
    },
    {
      "cell_type": "code",
      "execution_count": null,
      "metadata": {
        "colab": {
          "base_uri": "https://localhost:8080/"
        },
        "id": "OouY5mr2__Li",
        "outputId": "e9eb7fa7-6873-45eb-c157-cacc7b6e78d1"
      },
      "outputs": [
        {
          "output_type": "execute_result",
          "data": {
            "text/plain": [
              "adhd          19999\n",
              "anxiety       19997\n",
              "depression    19995\n",
              "Name: Label, dtype: int64"
            ]
          },
          "metadata": {},
          "execution_count": 9
        }
      ],
      "source": [
        "df_first.Label.value_counts()"
      ]
    },
    {
      "cell_type": "markdown",
      "source": [
        "# Text Preprocessing and Data Preparation"
      ],
      "metadata": {
        "id": "AupnitzwPQZ6"
      }
    },
    {
      "cell_type": "code",
      "execution_count": null,
      "metadata": {
        "id": "ks_9N49hH1Db"
      },
      "outputs": [],
      "source": [
        "vocab_size = 5000\n",
        "embedding_dim = 32\n",
        "max_length = 250\n",
        "trunc_type = 'post'\n",
        "padding_type = 'post'\n",
        "oov_tok = \"<OOV>\"\n",
        "\n",
        "# Divide the data into training (80%), validation (10%), and test (10%)\n",
        "training_sentences, temp_sentences, training_labels, temp_labels = train_test_split(df_first['Text'], df_first['Label'], train_size=0.8, shuffle=True)\n",
        "# Split validation and test data (50% of remaining data each)\n",
        "validation_sentences, test_sentences, validation_labels, test_labels = train_test_split(temp_sentences, temp_labels, train_size=0.5, shuffle=True)"
      ]
    },
    {
      "cell_type": "code",
      "execution_count": null,
      "metadata": {
        "id": "n9VwKpioJ4qT"
      },
      "outputs": [],
      "source": [
        "# Fit your tokenizer with training data\n",
        "tokenizer = Tokenizer(num_words=vocab_size, oov_token=oov_tok)\n",
        "tokenizer.fit_on_texts(training_sentences)\n",
        "\n",
        "# Convert text to sequences\n",
        "training_sequences = tokenizer.texts_to_sequences(training_sentences)\n",
        "validation_sequences = tokenizer.texts_to_sequences(validation_sentences)\n",
        "test_sequences = tokenizer.texts_to_sequences(test_sentences)\n",
        "\n",
        "# Pad sequences\n",
        "training_padded = pad_sequences(training_sequences, maxlen=max_length, padding=padding_type, truncating=trunc_type)\n",
        "validation_padded = pad_sequences(validation_sequences, maxlen=max_length, padding=padding_type,truncating=trunc_type)\n",
        "test_padded = pad_sequences(test_sequences, maxlen=max_length, padding=padding_type, truncating=trunc_type)"
      ]
    },
    {
      "cell_type": "code",
      "execution_count": null,
      "metadata": {
        "id": "FbNNawMYKwEp"
      },
      "outputs": [],
      "source": [
        "# Tokenizer to encode label.\n",
        "label_tokenizer = LabelEncoder()\n",
        "label_tokenizer.fit(df_first['Label'])\n",
        "\n",
        "# Encode labels using label tokenizer\n",
        "training_label_seq = np.array(label_tokenizer.transform(training_labels))\n",
        "validation_label_seq = np.array(label_tokenizer.transform(validation_labels))\n",
        "testing_label_seq = np.array(label_tokenizer.transform(test_labels))"
      ]
    },
    {
      "cell_type": "markdown",
      "source": [
        "# Model Building and Training"
      ],
      "metadata": {
        "id": "N-u-sa5-Pl0P"
      }
    },
    {
      "cell_type": "code",
      "execution_count": null,
      "metadata": {
        "id": "QigeCNdWMNM5"
      },
      "outputs": [],
      "source": [
        "def learning_rate_scheduler(epoch):\n",
        "  return 0.001\n",
        "\n",
        "lr_scheduler= LearningRateScheduler(learning_rate_scheduler)\n",
        "early_stopping = EarlyStopping(monitor='val_loss', patience=3, restore_best_weights=True)"
      ]
    },
    {
      "cell_type": "code",
      "execution_count": null,
      "metadata": {
        "id": "eZWD2qZTNMTW"
      },
      "outputs": [],
      "source": [
        "# Build the rest of our model\n",
        "model = Sequential([Embedding(vocab_size, embedding_dim, input_length=max_length),\n",
        "                    Bidirectional(LSTM(64, return_sequences=True)),\n",
        "                    GlobalAveragePooling1D(),\n",
        "                    Dropout(0.5),\n",
        "                    Flatten(),\n",
        "                    Dense(64, activation='relu'),\n",
        "                    Dropout(0.5),\n",
        "                    BatchNormalization(),\n",
        "                    Dense(32, activation='relu'),\n",
        "                    Dropout(0.5),\n",
        "                    Dense(3, activation='softmax')\n",
        "                    ])\n",
        "\n",
        "# Make sure you are using \"sparse_categorical_crossentropy\" as a loss fuction\n",
        "model.compile(loss='sparse_categorical_crossentropy', optimizer='adam', metrics=['accuracy'])"
      ]
    },
    {
      "cell_type": "code",
      "execution_count": null,
      "metadata": {
        "colab": {
          "base_uri": "https://localhost:8080/"
        },
        "id": "khL72sJTO-pH",
        "outputId": "2230a30b-9d6f-441a-d429-e99c67a068e9"
      },
      "outputs": [
        {
          "output_type": "stream",
          "name": "stdout",
          "text": [
            "Epoch 1/10\n",
            "1500/1500 [==============================] - 481s 316ms/step - loss: 0.8448 - accuracy: 0.5995 - val_loss: 0.6586 - val_accuracy: 0.8041 - lr: 0.0010\n",
            "Epoch 2/10\n",
            "1500/1500 [==============================] - 474s 316ms/step - loss: 0.7728 - accuracy: 0.6823 - val_loss: 0.6751 - val_accuracy: 0.7255 - lr: 0.0010\n",
            "Epoch 3/10\n",
            "1500/1500 [==============================] - 480s 320ms/step - loss: 0.6490 - accuracy: 0.7468 - val_loss: 0.4300 - val_accuracy: 0.8450 - lr: 0.0010\n",
            "Epoch 4/10\n",
            "1500/1500 [==============================] - 476s 317ms/step - loss: 0.4499 - accuracy: 0.8470 - val_loss: 0.3703 - val_accuracy: 0.8691 - lr: 0.0010\n",
            "Epoch 5/10\n",
            "1500/1500 [==============================] - 499s 333ms/step - loss: 0.3912 - accuracy: 0.8718 - val_loss: 0.3447 - val_accuracy: 0.8803 - lr: 0.0010\n",
            "Epoch 6/10\n",
            "1500/1500 [==============================] - 495s 330ms/step - loss: 0.3537 - accuracy: 0.8863 - val_loss: 0.3426 - val_accuracy: 0.8796 - lr: 0.0010\n",
            "Epoch 7/10\n",
            "1500/1500 [==============================] - 483s 322ms/step - loss: 0.3393 - accuracy: 0.8933 - val_loss: 0.3403 - val_accuracy: 0.8825 - lr: 0.0010\n",
            "Epoch 8/10\n",
            "1500/1500 [==============================] - 479s 319ms/step - loss: 0.3134 - accuracy: 0.9010 - val_loss: 0.3470 - val_accuracy: 0.8770 - lr: 0.0010\n",
            "Epoch 9/10\n",
            "1500/1500 [==============================] - 480s 320ms/step - loss: 0.2941 - accuracy: 0.9091 - val_loss: 0.3460 - val_accuracy: 0.8808 - lr: 0.0010\n",
            "Epoch 10/10\n",
            "1500/1500 [==============================] - 488s 325ms/step - loss: 0.2788 - accuracy: 0.9158 - val_loss: 0.3729 - val_accuracy: 0.8791 - lr: 0.0010\n"
          ]
        }
      ],
      "source": [
        "history= model.fit(training_padded, training_label_seq, epochs=10,validation_data=(validation_padded, validation_label_seq),\n",
        "                   callbacks=[early_stopping, lr_scheduler])\n",
        "#history= model.fit(training_padded, training_label_seq, epochs=7,validation_data=(validation_padded, validation_label_seq),\n",
        "#                   callbacks=[lr_scheduler])"
      ]
    },
    {
      "cell_type": "markdown",
      "source": [
        "# Model Evaluation and Prediction"
      ],
      "metadata": {
        "id": "hrSI_jlgPyxp"
      }
    },
    {
      "cell_type": "code",
      "execution_count": null,
      "metadata": {
        "colab": {
          "base_uri": "https://localhost:8080/"
        },
        "id": "9UDoNYRrWRDo",
        "outputId": "ea8dc6b0-8a7f-4989-a7a5-5e7b245cc719"
      },
      "outputs": [
        {
          "output_type": "stream",
          "name": "stdout",
          "text": [
            "188/188 [==============================] - 15s 80ms/step - loss: 0.3403 - accuracy: 0.8825\n",
            "Loss: 0.3403307795524597\n",
            "Accuracy: 0.8824804425239563\n"
          ]
        }
      ],
      "source": [
        "# Model evaluation using test data\n",
        "evaluation_results = model.evaluate(validation_padded, validation_label_seq)\n",
        "\n",
        "# Display evaluation results\n",
        "print(\"Loss:\", evaluation_results[0])\n",
        "print(\"Accuracy:\", evaluation_results[1])"
      ]
    },
    {
      "cell_type": "code",
      "execution_count": null,
      "metadata": {
        "colab": {
          "base_uri": "https://localhost:8080/"
        },
        "id": "330ucm5tfHZG",
        "outputId": "38243d1e-d9ed-48c6-da93-e9804e9cbaf2"
      },
      "outputs": [
        {
          "output_type": "stream",
          "name": "stdout",
          "text": [
            "1/1 [==============================] - 1s 1s/step\n",
            "Text: Merasa seperti ada beban berat di dadaku akhir-akhir ini. Kecemasan selalu mengintai, membuat jantung berdegup kencang dan pikiran jadi gelisah. Sulit untuk tenang dan merasa aman. Semoga suatu hari saya bisa menemukan cara untuk menghadapi dan mengatasi kecemasan ini, serta mendapatkan dukungan yang diperlukan.\n",
            "adhd Probability: 1.38%\n",
            "anxiety Probability: 96.43%\n",
            "depression Probability: 2.19%\n",
            "Predicted Class: anxiety\n",
            "Model predicts high probability of anxiety.\n"
          ]
        }
      ],
      "source": [
        "# Describes the new data to be predicted\n",
        "new_data = [\"Merasa seperti ada beban berat di dadaku akhir-akhir ini. Kecemasan selalu mengintai, membuat jantung berdegup kencang dan pikiran jadi gelisah. Sulit untuk tenang dan merasa aman. Semoga suatu hari saya bisa menemukan cara untuk menghadapi dan mengatasi kecemasan ini, serta mendapatkan dukungan yang diperlukan.\"]\n",
        "\n",
        "# Pre-processing of new data, including tokenization and padding\n",
        "new_sequences = tokenizer.texts_to_sequences(new_data)\n",
        "new_padded = pad_sequences(new_sequences, maxlen=max_length, padding=padding_type, truncating=trunc_type)\n",
        "\n",
        "# Make predictions using the model\n",
        "predictions = model.predict(new_padded)\n",
        "\n",
        "# Display the prediction result\n",
        "for i, text in enumerate(new_data):\n",
        "    print(f\"Text: {text}\")\n",
        "\n",
        "    # Displays the probability for each category\n",
        "    for j, category in enumerate(label_tokenizer.classes_):\n",
        "        probability = predictions[i][j] * 100\n",
        "        print(f\"{category} Probability: {probability:.2f}%\")\n",
        "\n",
        "    # Determine the category with the highest probability as the prediction\n",
        "    predicted_class = label_tokenizer.classes_[np.argmax(predictions[i])]\n",
        "    print(f\"Predicted Class: {predicted_class}\")\n",
        "\n",
        "    # Added if-else logic to display statements based on predictions\n",
        "    if predicted_class == 'anxiety' and predictions[i][1] > 0.5:\n",
        "        print(\"Model predicts high probability of anxiety.\")\n",
        "    elif predicted_class == 'depression' and predictions[i][2] > 0.5:\n",
        "        print(\"Model predicts high probability of depression.\")\n",
        "    elif predicted_class == 'adhd' and predictions[i][0] > 0.5:\n",
        "        print(\"Model predicts high probability of ADHD.\")\n",
        "    else:\n",
        "        print(\"Model predicts other mental health condition.\")"
      ]
    },
    {
      "cell_type": "markdown",
      "source": [
        "# Model Saving"
      ],
      "metadata": {
        "id": "mdksUzQ4Qmv5"
      }
    },
    {
      "cell_type": "code",
      "execution_count": null,
      "metadata": {
        "id": "FWA_FmuSj38m"
      },
      "outputs": [],
      "source": [
        "# Save the model into SavedModel format\n",
        "model.save(\"/content/drive/MyDrive/Model/path_to_saved_model\", save_format=\"tf\")"
      ]
    }
  ],
  "metadata": {
    "colab": {
      "provenance": []
    },
    "kernelspec": {
      "display_name": "Python 3",
      "name": "python3"
    },
    "language_info": {
      "name": "python"
    }
  },
  "nbformat": 4,
  "nbformat_minor": 0
}